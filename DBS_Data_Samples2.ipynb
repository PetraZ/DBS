{
 "cells": [
  {
   "cell_type": "code",
   "execution_count": 23,
   "metadata": {},
   "outputs": [],
   "source": [
    "import pandas as pd\n",
    "import numpy as np\n",
    "import matplotlib.pyplot as plt"
   ]
  },
  {
   "cell_type": "code",
   "execution_count": 4,
   "metadata": {},
   "outputs": [],
   "source": [
    "data = pd.read_excel('Copy of DBS_Data_Samples2.xlsx',usecols=[2,3,4],sheet_name='60 sec AdultF vs AdultM')"
   ]
  },
  {
   "cell_type": "code",
   "execution_count": 9,
   "metadata": {},
   "outputs": [
    {
     "data": {
      "text/html": [
       "<div>\n",
       "<style scoped>\n",
       "    .dataframe tbody tr th:only-of-type {\n",
       "        vertical-align: middle;\n",
       "    }\n",
       "\n",
       "    .dataframe tbody tr th {\n",
       "        vertical-align: top;\n",
       "    }\n",
       "\n",
       "    .dataframe thead th {\n",
       "        text-align: right;\n",
       "    }\n",
       "</style>\n",
       "<table border=\"1\" class=\"dataframe\">\n",
       "  <thead>\n",
       "    <tr style=\"text-align: right;\">\n",
       "      <th></th>\n",
       "      <th>Time (sec)</th>\n",
       "      <th>AdultF</th>\n",
       "      <th>AdultM1</th>\n",
       "    </tr>\n",
       "  </thead>\n",
       "  <tbody>\n",
       "    <tr>\n",
       "      <th>0</th>\n",
       "      <td>0.050008</td>\n",
       "      <td>8.277837</td>\n",
       "      <td>8.278923</td>\n",
       "    </tr>\n",
       "    <tr>\n",
       "      <th>1</th>\n",
       "      <td>0.101987</td>\n",
       "      <td>8.277797</td>\n",
       "      <td>8.278915</td>\n",
       "    </tr>\n",
       "    <tr>\n",
       "      <th>2</th>\n",
       "      <td>0.152994</td>\n",
       "      <td>8.277790</td>\n",
       "      <td>8.278915</td>\n",
       "    </tr>\n",
       "    <tr>\n",
       "      <th>3</th>\n",
       "      <td>0.203008</td>\n",
       "      <td>8.277814</td>\n",
       "      <td>8.278915</td>\n",
       "    </tr>\n",
       "    <tr>\n",
       "      <th>4</th>\n",
       "      <td>0.255057</td>\n",
       "      <td>8.277814</td>\n",
       "      <td>8.278938</td>\n",
       "    </tr>\n",
       "  </tbody>\n",
       "</table>\n",
       "</div>"
      ],
      "text/plain": [
       "   Time (sec)    AdultF   AdultM1\n",
       "0    0.050008  8.277837  8.278923\n",
       "1    0.101987  8.277797  8.278915\n",
       "2    0.152994  8.277790  8.278915\n",
       "3    0.203008  8.277814  8.278915\n",
       "4    0.255057  8.277814  8.278938"
      ]
     },
     "execution_count": 9,
     "metadata": {},
     "output_type": "execute_result"
    }
   ],
   "source": [
    "data.head()"
   ]
  },
  {
   "cell_type": "code",
   "execution_count": 77,
   "metadata": {},
   "outputs": [
    {
     "data": {
      "text/plain": [
       "18.51851851851852"
      ]
     },
     "execution_count": 77,
     "metadata": {},
     "output_type": "execute_result"
    }
   ],
   "source": [
    "1/0.054"
   ]
  },
  {
   "cell_type": "code",
   "execution_count": 143,
   "metadata": {},
   "outputs": [],
   "source": [
    "def plot_fft(data=data.AdultF.values,fs=1/0.054,name='None'):\n",
    "    mag_fft = np.abs(np.fft.fft(data))\n",
    "    num_dots = len(data)\n",
    "    half_num = int(num_dots/2)\n",
    "    base_freq = fs/num_dots\n",
    "#     ## frequency plot\n",
    "#     plt.figure(0)\n",
    "#     freqs = np.linspace(0,fs,num_dots)\n",
    "#     plt.plot([2:half_num],mag_fft[2:half_num])\n",
    "    \n",
    "    \n",
    "    # detecting respiration rate from 10 events/min (get rid of 0hz and some noise)\n",
    "    res_sp = int(np.ceil(10/(base_freq*60)))\n",
    "    # detecting heart rate from 40 events/min (get rid of respiration rate and some noise)\n",
    "    hr_sp = int(np.ceil(40/(base_freq*60)))\n",
    "    # plot point\n",
    "    pl_sp = int(np.ceil(4/(base_freq*60)))\n",
    "    \n",
    "    ## event plot\n",
    "    freqs = np.linspace(0,fs,num_dots)\n",
    "    plt.figure(1)\n",
    "    plt.plot(60*freqs[pl_sp:half_num],mag_fft[pl_sp:half_num])\n",
    "    plt.title(name)\n",
    "    plt.show()\n",
    "    \n",
    "    \n",
    "    \n",
    "    res_rate = (mag_fft[res_sp:half_num].argmax()+res_sp)*base_freq*60\n",
    "    heart_rate = (mag_fft[hr_sp:half_num].argmax()+hr_sp)*base_freq*60\n",
    "    print ('Normal Respiration Rate: 12-25 breaths/min')\n",
    "    print('Respiration Rate:{}'.format(res_rate))\n",
    "    print ('Normal Heart Rate: 60-100 beats/min')\n",
    "    print('Heart Rate:{}'.format(heart_rate))"
   ]
  },
  {
   "cell_type": "code",
   "execution_count": 144,
   "metadata": {},
   "outputs": [
    {
     "data": {
      "image/png": "[encoded data removed]",
      "text/plain": [
       "<Figure size 432x288 with 1 Axes>"
      ]
     },
     "metadata": {},
     "output_type": "display_data"
    },
    {
     "name": "stdout",
     "output_type": "stream",
     "text": [
      "Normal Respiration Rate: 12-25 breaths/min\n",
      "Respiration Rate:19.01901901901902\n",
      "Normal Heart Rate: 60-100 beats/min\n",
      "Heart Rate:77.07707707707709\n"
     ]
    }
   ],
   "source": [
    "plot_fft(data=data.AdultF.values,name='AdultF')"
   ]
  },
  {
   "cell_type": "code",
   "execution_count": 145,
   "metadata": {},
   "outputs": [
    {
     "data": {
      "image/png": "[encoded data removed]",
      "text/plain": [
       "<Figure size 432x288 with 1 Axes>"
      ]
     },
     "metadata": {},
     "output_type": "display_data"
    },
    {
     "name": "stdout",
     "output_type": "stream",
     "text": [
      "Normal Respiration Rate: 12-25 breaths/min\n",
      "Respiration Rate:13.013013013013014\n",
      "Normal Heart Rate: 60-100 beats/min\n",
      "Heart Rate:72.07207207207209\n"
     ]
    }
   ],
   "source": [
    "plot_fft(data=data.AdultM1.values,name='AdultM')"
   ]
  },
  {
   "cell_type": "code",
   "execution_count": null,
   "metadata": {},
   "outputs": [],
   "source": []
  },
  {
   "cell_type": "code",
   "execution_count": 106,
   "metadata": {},
   "outputs": [],
   "source": [
    "###### Test using another sheet\n",
    "data2 = pd.read_excel('Copy of DBS_Data_Samples2.xlsx',usecols=[2,3,4],sheet_name='60 sec ChildF vs AdultM')"
   ]
  },
  {
   "cell_type": "code",
   "execution_count": 108,
   "metadata": {},
   "outputs": [
    {
     "data": {
      "text/html": [
       "<div>\n",
       "<style scoped>\n",
       "    .dataframe tbody tr th:only-of-type {\n",
       "        vertical-align: middle;\n",
       "    }\n",
       "\n",
       "    .dataframe tbody tr th {\n",
       "        vertical-align: top;\n",
       "    }\n",
       "\n",
       "    .dataframe thead th {\n",
       "        text-align: right;\n",
       "    }\n",
       "</style>\n",
       "<table border=\"1\" class=\"dataframe\">\n",
       "  <thead>\n",
       "    <tr style=\"text-align: right;\">\n",
       "      <th></th>\n",
       "      <th>Time (sec)</th>\n",
       "      <th>ChildF1</th>\n",
       "      <th>AdultM3</th>\n",
       "    </tr>\n",
       "  </thead>\n",
       "  <tbody>\n",
       "    <tr>\n",
       "      <th>0</th>\n",
       "      <td>0.006392</td>\n",
       "      <td>8.278412</td>\n",
       "      <td>8.276714</td>\n",
       "    </tr>\n",
       "    <tr>\n",
       "      <th>1</th>\n",
       "      <td>0.007538</td>\n",
       "      <td>8.278412</td>\n",
       "      <td>8.276714</td>\n",
       "    </tr>\n",
       "    <tr>\n",
       "      <th>2</th>\n",
       "      <td>0.007617</td>\n",
       "      <td>8.278412</td>\n",
       "      <td>8.276714</td>\n",
       "    </tr>\n",
       "    <tr>\n",
       "      <th>3</th>\n",
       "      <td>0.009075</td>\n",
       "      <td>8.278412</td>\n",
       "      <td>8.276714</td>\n",
       "    </tr>\n",
       "    <tr>\n",
       "      <th>4</th>\n",
       "      <td>0.011206</td>\n",
       "      <td>8.278412</td>\n",
       "      <td>8.276714</td>\n",
       "    </tr>\n",
       "  </tbody>\n",
       "</table>\n",
       "</div>"
      ],
      "text/plain": [
       "   Time (sec)   ChildF1   AdultM3\n",
       "0    0.006392  8.278412  8.276714\n",
       "1    0.007538  8.278412  8.276714\n",
       "2    0.007617  8.278412  8.276714\n",
       "3    0.009075  8.278412  8.276714\n",
       "4    0.011206  8.278412  8.276714"
      ]
     },
     "execution_count": 108,
     "metadata": {},
     "output_type": "execute_result"
    }
   ],
   "source": [
    "data2.head()"
   ]
  },
  {
   "cell_type": "code",
   "execution_count": 115,
   "metadata": {},
   "outputs": [
    {
     "data": {
      "text/plain": [
       "0.002593457762679185"
      ]
     },
     "execution_count": 115,
     "metadata": {},
     "output_type": "execute_result"
    }
   ],
   "source": [
    "data2.iloc[:,0].diff().mean()"
   ]
  },
  {
   "cell_type": "code",
   "execution_count": 116,
   "metadata": {},
   "outputs": [],
   "source": [
    "fs = 1/data2.iloc[:,0].diff().mean()"
   ]
  },
  {
   "cell_type": "code",
   "execution_count": 121,
   "metadata": {},
   "outputs": [
    {
     "data": {
      "text/plain": [
       "11567.568375977076"
      ]
     },
     "execution_count": 121,
     "metadata": {},
     "output_type": "execute_result"
    }
   ],
   "source": [
    "fs*60/2"
   ]
  },
  {
   "cell_type": "code",
   "execution_count": 130,
   "metadata": {},
   "outputs": [
    {
     "data": {
      "image/png": "[encoded data removed]",
      "text/plain": [
       "<Figure size 432x288 with 1 Axes>"
      ]
     },
     "metadata": {},
     "output_type": "display_data"
    },
    {
     "name": "stdout",
     "output_type": "stream",
     "text": [
      "Normal Respiration Rate: 12-25 breaths/min\n",
      "Respiration Rate:13.962062010835336\n",
      "Normal Heart Rate: 60-100 beats/min\n",
      "Heart Rate:45.87534660703039\n"
     ]
    }
   ],
   "source": [
    "plot_fft(data=data2.ChildF1.values,fs=fs,name='ChildF')"
   ]
  },
  {
   "cell_type": "code",
   "execution_count": 131,
   "metadata": {},
   "outputs": [
    {
     "data": {
      "image/png": "[encoded data removed]",
      "text/plain": [
       "<Figure size 432x288 with 1 Axes>"
      ]
     },
     "metadata": {},
     "output_type": "display_data"
    },
    {
     "name": "stdout",
     "output_type": "stream",
     "text": [
      "Normal Respiration Rate: 12-25 breaths/min\n",
      "Respiration Rate:16.95393244172862\n",
      "Normal Heart Rate: 60-100 beats/min\n",
      "Heart Rate:53.85366775607915\n"
     ]
    }
   ],
   "source": [
    "plot_fft(data=data2.AdultM3.values,fs=fs,name='AdultM3')"
   ]
  },
  {
   "cell_type": "markdown",
   "metadata": {},
   "source": [
    "It seems heart rate detecting is still having some issues sometimes.\n",
    "Need some adjustment."
   ]
  },
  {
   "cell_type": "code",
   "execution_count": null,
   "metadata": {},
   "outputs": [],
   "source": []
  }
 ],
 "metadata": {
  "kernelspec": {
   "display_name": "Python 3",
   "language": "python",
   "name": "python3"
  },
  "language_info": {
   "codemirror_mode": {
    "name": "ipython",
    "version": 3
   },
   "file_extension": ".py",
   "mimetype": "text/x-python",
   "name": "python",
   "nbconvert_exporter": "python",
   "pygments_lexer": "ipython3",
   "version": "3.6.5"
  }
 },
 "nbformat": 4,
 "nbformat_minor": 2
}
