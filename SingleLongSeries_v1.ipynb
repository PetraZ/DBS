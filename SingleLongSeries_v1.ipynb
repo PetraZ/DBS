{
 "cells": [
  {
   "cell_type": "code",
   "execution_count": 6,
   "metadata": {},
   "outputs": [],
   "source": [
    "import pandas as pd\n",
    "import numpy as np\n",
    "from sklearn.model_selection import train_test_split\n",
    "from sklearn.linear_model import LinearRegression\n",
    "\n",
    "import matplotlib.pyplot as plt\n",
    "%matplotlib inline "
   ]
  },
  {
   "cell_type": "code",
   "execution_count": 7,
   "metadata": {},
   "outputs": [],
   "source": [
    "data = pd.read_csv('./combined6files/data_10mhz-between fingers_10min.csv')"
   ]
  },
  {
   "cell_type": "code",
   "execution_count": 8,
   "metadata": {},
   "outputs": [
    {
     "data": {
      "text/html": [
       "<div>\n",
       "<style scoped>\n",
       "    .dataframe tbody tr th:only-of-type {\n",
       "        vertical-align: middle;\n",
       "    }\n",
       "\n",
       "    .dataframe tbody tr th {\n",
       "        vertical-align: top;\n",
       "    }\n",
       "\n",
       "    .dataframe thead th {\n",
       "        text-align: right;\n",
       "    }\n",
       "</style>\n",
       "<table border=\"1\" class=\"dataframe\">\n",
       "  <thead>\n",
       "    <tr style=\"text-align: right;\">\n",
       "      <th></th>\n",
       "      <th>x</th>\n",
       "      <th>evmSampleDeltaMs</th>\n",
       "      <th>logDeltaMs</th>\n",
       "      <th>DATA0_uH</th>\n",
       "      <th>DATA1_uH</th>\n",
       "      <th>DATA2_uH</th>\n",
       "      <th>DATA3_uH</th>\n",
       "      <th>DATA0</th>\n",
       "      <th>DATA1</th>\n",
       "      <th>DATA2</th>\n",
       "      <th>DATA3</th>\n",
       "      <th>DIFF0</th>\n",
       "      <th>DIFF1</th>\n",
       "      <th>DIFF2</th>\n",
       "      <th>DIFF3</th>\n",
       "      <th>DATA0_MHz</th>\n",
       "      <th>DATA1_MHz</th>\n",
       "      <th>DATA2_MHz</th>\n",
       "      <th>DATA3_MHz</th>\n",
       "      <th>Unnamed: 19</th>\n",
       "    </tr>\n",
       "  </thead>\n",
       "  <tbody>\n",
       "    <tr>\n",
       "      <th>0</th>\n",
       "      <td>0</td>\n",
       "      <td>6.134469e+08</td>\n",
       "      <td>6.134469e+08</td>\n",
       "      <td>8.767457</td>\n",
       "      <td>8.700816</td>\n",
       "      <td>Infinity</td>\n",
       "      <td>Infinity</td>\n",
       "      <td>18301070</td>\n",
       "      <td>18371022</td>\n",
       "      <td>0</td>\n",
       "      <td>0</td>\n",
       "      <td>-69952</td>\n",
       "      <td>69952</td>\n",
       "      <td>0</td>\n",
       "      <td>0</td>\n",
       "      <td>2.958873</td>\n",
       "      <td>2.970183</td>\n",
       "      <td>0</td>\n",
       "      <td>0</td>\n",
       "      <td>NaN</td>\n",
       "    </tr>\n",
       "    <tr>\n",
       "      <th>1</th>\n",
       "      <td>1</td>\n",
       "      <td>3.041304e+00</td>\n",
       "      <td>7.284036e+00</td>\n",
       "      <td>8.767457</td>\n",
       "      <td>8.700816</td>\n",
       "      <td>Infinity</td>\n",
       "      <td>Infinity</td>\n",
       "      <td>18301070</td>\n",
       "      <td>18371022</td>\n",
       "      <td>0</td>\n",
       "      <td>0</td>\n",
       "      <td>-69952</td>\n",
       "      <td>69952</td>\n",
       "      <td>0</td>\n",
       "      <td>0</td>\n",
       "      <td>2.958873</td>\n",
       "      <td>2.970183</td>\n",
       "      <td>0</td>\n",
       "      <td>0</td>\n",
       "      <td>NaN</td>\n",
       "    </tr>\n",
       "    <tr>\n",
       "      <th>2</th>\n",
       "      <td>2</td>\n",
       "      <td>1.964849e+00</td>\n",
       "      <td>6.943229e+00</td>\n",
       "      <td>8.767457</td>\n",
       "      <td>8.700816</td>\n",
       "      <td>Infinity</td>\n",
       "      <td>Infinity</td>\n",
       "      <td>18301070</td>\n",
       "      <td>18371022</td>\n",
       "      <td>0</td>\n",
       "      <td>0</td>\n",
       "      <td>-69952</td>\n",
       "      <td>69952</td>\n",
       "      <td>0</td>\n",
       "      <td>0</td>\n",
       "      <td>2.958873</td>\n",
       "      <td>2.970183</td>\n",
       "      <td>0</td>\n",
       "      <td>0</td>\n",
       "      <td>NaN</td>\n",
       "    </tr>\n",
       "    <tr>\n",
       "      <th>3</th>\n",
       "      <td>3</td>\n",
       "      <td>1.988092e+00</td>\n",
       "      <td>5.009472e+00</td>\n",
       "      <td>8.767309</td>\n",
       "      <td>8.700816</td>\n",
       "      <td>Infinity</td>\n",
       "      <td>Infinity</td>\n",
       "      <td>18301225</td>\n",
       "      <td>18371022</td>\n",
       "      <td>0</td>\n",
       "      <td>0</td>\n",
       "      <td>-69797</td>\n",
       "      <td>69797</td>\n",
       "      <td>0</td>\n",
       "      <td>0</td>\n",
       "      <td>2.958898</td>\n",
       "      <td>2.970183</td>\n",
       "      <td>0</td>\n",
       "      <td>0</td>\n",
       "      <td>NaN</td>\n",
       "    </tr>\n",
       "    <tr>\n",
       "      <th>4</th>\n",
       "      <td>4</td>\n",
       "      <td>3.352528e+00</td>\n",
       "      <td>6.340704e+00</td>\n",
       "      <td>8.767309</td>\n",
       "      <td>8.700816</td>\n",
       "      <td>Infinity</td>\n",
       "      <td>Infinity</td>\n",
       "      <td>18301225</td>\n",
       "      <td>18371022</td>\n",
       "      <td>0</td>\n",
       "      <td>0</td>\n",
       "      <td>-69797</td>\n",
       "      <td>69797</td>\n",
       "      <td>0</td>\n",
       "      <td>0</td>\n",
       "      <td>2.958898</td>\n",
       "      <td>2.970183</td>\n",
       "      <td>0</td>\n",
       "      <td>0</td>\n",
       "      <td>NaN</td>\n",
       "    </tr>\n",
       "  </tbody>\n",
       "</table>\n",
       "</div>"
      ],
      "text/plain": [
       "   x  evmSampleDeltaMs    logDeltaMs  DATA0_uH  DATA1_uH  DATA2_uH  DATA3_uH  \\\n",
       "0  0      6.134469e+08  6.134469e+08  8.767457  8.700816  Infinity  Infinity   \n",
       "1  1      3.041304e+00  7.284036e+00  8.767457  8.700816  Infinity  Infinity   \n",
       "2  2      1.964849e+00  6.943229e+00  8.767457  8.700816  Infinity  Infinity   \n",
       "3  3      1.988092e+00  5.009472e+00  8.767309  8.700816  Infinity  Infinity   \n",
       "4  4      3.352528e+00  6.340704e+00  8.767309  8.700816  Infinity  Infinity   \n",
       "\n",
       "      DATA0     DATA1  DATA2  DATA3  DIFF0  DIFF1  DIFF2  DIFF3  DATA0_MHz  \\\n",
       "0  18301070  18371022      0      0 -69952  69952      0      0   2.958873   \n",
       "1  18301070  18371022      0      0 -69952  69952      0      0   2.958873   \n",
       "2  18301070  18371022      0      0 -69952  69952      0      0   2.958873   \n",
       "3  18301225  18371022      0      0 -69797  69797      0      0   2.958898   \n",
       "4  18301225  18371022      0      0 -69797  69797      0      0   2.958898   \n",
       "\n",
       "   DATA1_MHz  DATA2_MHz  DATA3_MHz  Unnamed: 19  \n",
       "0   2.970183          0          0          NaN  \n",
       "1   2.970183          0          0          NaN  \n",
       "2   2.970183          0          0          NaN  \n",
       "3   2.970183          0          0          NaN  \n",
       "4   2.970183          0          0          NaN  "
      ]
     },
     "execution_count": 8,
     "metadata": {},
     "output_type": "execute_result"
    }
   ],
   "source": [
    "data.head()"
   ]
  },
  {
   "cell_type": "code",
   "execution_count": 9,
   "metadata": {},
   "outputs": [],
   "source": [
    "data1 = data.DATA1_uH.astype(np.float32)[603:-403]"
   ]
  },
  {
   "cell_type": "code",
   "execution_count": 10,
   "metadata": {},
   "outputs": [
    {
     "data": {
      "text/plain": [
       "<matplotlib.axes._subplots.AxesSubplot at 0x16d68248748>"
      ]
     },
     "execution_count": 10,
     "metadata": {},
     "output_type": "execute_result"
    },
    {
     "data": {
      "image/png": "[encoded data removed]",
      "text/plain": [
       "<Figure size 432x288 with 1 Axes>"
      ]
     },
     "metadata": {},
     "output_type": "display_data"
    }
   ],
   "source": [
    "data1.plot()"
   ]
  },
  {
   "cell_type": "code",
   "execution_count": 11,
   "metadata": {},
   "outputs": [],
   "source": [
    "data = data.DATA0_uH.astype(np.float32)[603:-403]"
   ]
  },
  {
   "cell_type": "code",
   "execution_count": 12,
   "metadata": {},
   "outputs": [
    {
     "data": {
      "text/plain": [
       "<matplotlib.axes._subplots.AxesSubplot at 0x16d68959748>"
      ]
     },
     "execution_count": 12,
     "metadata": {},
     "output_type": "execute_result"
    },
    {
     "data": {
      "image/png": "[encoded data removed]",
      "text/plain": [
       "<Figure size 432x288 with 1 Axes>"
      ]
     },
     "metadata": {},
     "output_type": "display_data"
    }
   ],
   "source": [
    "data.plot()"
   ]
  },
  {
   "cell_type": "code",
   "execution_count": 15,
   "metadata": {},
   "outputs": [
    {
     "name": "stdout",
     "output_type": "stream",
     "text": [
      "94800\n",
      "sample frequency(Hz): 158.0\n"
     ]
    }
   ],
   "source": [
    "## rough sample frequency \n",
    "\n",
    "print(data.shape[0])\n",
    "sample_freq = data.shape[0]/(10*60)\n",
    "print(\"sample frequency(Hz):\",sample_freq)"
   ]
  },
  {
   "cell_type": "code",
   "execution_count": 16,
   "metadata": {},
   "outputs": [],
   "source": [
    "X = data.values.reshape((-1,158))"
   ]
  },
  {
   "cell_type": "code",
   "execution_count": 17,
   "metadata": {},
   "outputs": [
    {
     "data": {
      "text/plain": [
       "(600, 158)"
      ]
     },
     "execution_count": 17,
     "metadata": {},
     "output_type": "execute_result"
    }
   ],
   "source": [
    "X.shape"
   ]
  },
  {
   "cell_type": "code",
   "execution_count": 18,
   "metadata": {},
   "outputs": [],
   "source": [
    "# data preparation.....\n",
    "# since we only have a long series with one target value so far\n",
    "# we would assume target valus is one (doesn't matter since we can see it as a normalized value)\n",
    "# the potential goal here is to see if Linear Regressio model can point out the most influential frequency bins to \n",
    "# predict the concentration level\n",
    "train_X_raw,valid_X_raw = train_test_split(X,random_state=13)\n",
    "train_X_fft,valid_X_fft = np.abs(np.fft.fft(train_X_raw))[:,2:80],np.abs(np.fft.fft(valid_X_raw))[:,2:80]\n",
    "train_y,valid_y = np.ones((450,1)),np.ones((150,1))"
   ]
  },
  {
   "cell_type": "code",
   "execution_count": 22,
   "metadata": {},
   "outputs": [
    {
     "data": {
      "text/plain": [
       "Text(0.5,1,'fft input example')"
      ]
     },
     "execution_count": 22,
     "metadata": {},
     "output_type": "execute_result"
    },
    {
     "data": {
      "image/png": "[encoded data removed]",
      "text/plain": [
       "<Figure size 432x288 with 1 Axes>"
      ]
     },
     "metadata": {},
     "output_type": "display_data"
    }
   ],
   "source": [
    "plt.plot(train_X_fft[0])\n",
    "plt.title(\"fft input example\")"
   ]
  },
  {
   "cell_type": "code",
   "execution_count": null,
   "metadata": {},
   "outputs": [],
   "source": []
  },
  {
   "cell_type": "code",
   "execution_count": 23,
   "metadata": {},
   "outputs": [
    {
     "data": {
      "text/plain": [
       "LinearRegression(copy_X=True, fit_intercept=False, n_jobs=1, normalize=True)"
      ]
     },
     "execution_count": 23,
     "metadata": {},
     "output_type": "execute_result"
    }
   ],
   "source": [
    "### train a simple linear regression model to see \n",
    "### which frequency bins are most influential to represent the concentration level\n",
    "lr_model = LinearRegression(fit_intercept=False,normalize=True)\n",
    "lr_model.fit(train_X_fft,train_y)"
   ]
  },
  {
   "cell_type": "code",
   "execution_count": 24,
   "metadata": {},
   "outputs": [
    {
     "data": {
      "text/plain": [
       "array([[   5.5965705,    5.467556 ,    8.887787 ,    9.978645 ,\n",
       "           0.7933006,   -2.713646 ,   21.355453 ,   23.724367 ,\n",
       "           2.3776894,   33.579445 ,   17.219782 ,   74.26239  ,\n",
       "          52.525383 ,   78.151344 ,   77.22986  ,   32.011196 ,\n",
       "          32.910973 ,   17.23999  ,  -71.3779   , -147.89203  ,\n",
       "        -186.46957  ,   88.54161  ,   21.514149 ,  102.59596  ,\n",
       "          48.295074 ,   39.82809  ,  103.65444  ,  105.26022  ,\n",
       "          66.20422  ,  116.23717  ,   89.34181  ,   66.28595  ,\n",
       "          63.44153  ,   23.822893 ,  -47.564445 ,  131.09972  ,\n",
       "         -29.419397 ,  111.38011  , -124.964745 , -170.4444   ,\n",
       "         102.83367  , -194.97858  ,   35.3206   ,   -5.7245817,\n",
       "        -141.28403  , -174.08673  ,   43.981064 ,  -46.69543  ,\n",
       "        -142.7792   ,  -67.82408  ,   33.505634 ,  -40.393284 ,\n",
       "        -180.46675  ,  -52.337807 ,   19.58118  ,   -4.9241133,\n",
       "         -33.772964 , -194.03186  , -283.48822  ,  -72.63462  ,\n",
       "          53.27428  ,  -59.993046 ,   41.762314 ,   10.246376 ,\n",
       "          29.889671 ,  212.20427  ,  119.67763  , -127.292656 ,\n",
       "         -92.30762  ,  -66.76632  ,  -16.040546 , -108.36395  ,\n",
       "         -96.757935 , -129.61765  ,  310.5606   ,  -98.110916 ,\n",
       "           8.775861 ,  138.4466   ]], dtype=float32)"
      ]
     },
     "execution_count": 24,
     "metadata": {},
     "output_type": "execute_result"
    }
   ],
   "source": [
    "# take a peak on the weights of linear regression\n",
    "lr_model.coef_"
   ]
  },
  {
   "cell_type": "code",
   "execution_count": 149,
   "metadata": {},
   "outputs": [
    {
     "data": {
      "image/png": "[encoded data removed]",
      "text/plain": [
       "<Figure size 432x288 with 1 Axes>"
      ]
     },
     "metadata": {},
     "output_type": "display_data"
    }
   ],
   "source": [
    "plt.figure()\n",
    "plt.scatter(np.arange(lr_model.coef_.shape[1]),lr_model.coef_[0,:])\n",
    "plt.show()"
   ]
  },
  {
   "cell_type": "code",
   "execution_count": 54,
   "metadata": {},
   "outputs": [
    {
     "name": "stdout",
     "output_type": "stream",
     "text": [
      "20 hz\n",
      "39 hz\n",
      "41 hz\n",
      "45 hz\n",
      "52 hz\n",
      "57 hz\n",
      "58 hz\n",
      "65 hz\n",
      "74 hz\n"
     ]
    }
   ],
   "source": [
    "## print out some frequencies with higher weights (more important in LR model)\n",
    "frequencies = np.arange(lr_model.coef_.shape[1])[np.abs(lr_model.coef_[0,:])>150]\n",
    "\n",
    "for freq in frequencies:\n",
    "    print(freq, 'hz')"
   ]
  },
  {
   "cell_type": "code",
   "execution_count": 42,
   "metadata": {},
   "outputs": [
    {
     "name": "stdout",
     "output_type": "stream",
     "text": [
      "Average \n",
      "train L1 pecent error is 26.0139% \n",
      "valid L1 pecent error is 31.0495%\n"
     ]
    }
   ],
   "source": [
    "## single performance analysis\n",
    "train_pred = lr_model.predict(train_X_fft)\n",
    "train_loss = np.mean(np.abs(train_pred-np.ones(train_pred.shape)))\n",
    "\n",
    "val_pred = lr_model.predict(valid_X_fft)\n",
    "valid_loss = np.mean(np.abs(val_pred-np.ones(val_pred.shape)))\n",
    "\n",
    "\n",
    "print (\"Average \\n\\\n",
    "train L1 pecent error is {:.4f}% \\nvalid L1 pecent error is {:.4f}%\".format(train_loss*100,valid_loss*100))"
   ]
  },
  {
   "cell_type": "code",
   "execution_count": null,
   "metadata": {},
   "outputs": [],
   "source": [
    "## conclusion\n",
    "\"\"\"\n",
    "As we can see, the error is still quite bit large, and this is only one target value representation problem,\n",
    "we could assume, it needs more complicated(larger) model to handle the prediction tasks.\n",
    "However, with larger model, more data is required as well to have a more stable model.\n",
    "It can be seen as a interative process and once after several iterations, error analysis can be performed further\n",
    "to estimate the bayesian errors(model limiatation with only sensor data)\n",
    "\n",
    "Overall this notebook, points out a possible solution to extract important frequencies with predictive power \n",
    "instead of too much human interpretation.\n",
    "\"\"\""
   ]
  }
 ],
 "metadata": {
  "kernelspec": {
   "display_name": "Python 3",
   "language": "python",
   "name": "python3"
  },
  "language_info": {
   "codemirror_mode": {
    "name": "ipython",
    "version": 3
   },
   "file_extension": ".py",
   "mimetype": "text/x-python",
   "name": "python",
   "nbconvert_exporter": "python",
   "pygments_lexer": "ipython3",
   "version": "3.6.5"
  }
 },
 "nbformat": 4,
 "nbformat_minor": 2
}
